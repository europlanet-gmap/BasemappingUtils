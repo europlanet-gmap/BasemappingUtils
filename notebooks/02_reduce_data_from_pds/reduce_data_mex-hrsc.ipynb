{
 "cells": [
  {
   "cell_type": "markdown",
   "metadata": {},
   "source": [
    "# Reduce PDS data\n",
    "\n",
    "To _reduce_ PDS may be different across different datasets/product-types\n",
    "\n",
    "Here, we are going to work with MEX/HRSC data."
   ]
  },
  {
   "cell_type": "code",
   "execution_count": 5,
   "metadata": {},
   "outputs": [],
   "source": [
    "dataset = 'hrsc'"
   ]
  },
  {
   "cell_type": "code",
   "execution_count": 9,
   "metadata": {},
   "outputs": [
    {
     "data": {
      "text/plain": [
       "<module 'gpt.helpers.collection' from '/Users/chbrandt/Coisas/repos/GMAP/gpt/gpt/helpers/collection.py'>"
      ]
     },
     "execution_count": 9,
     "metadata": {},
     "output_type": "execute_result"
    }
   ],
   "source": [
    "from gpt.helpers import collection\n",
    "\n",
    "from importlib import reload\n",
    "reload(collection)"
   ]
  },
  {
   "cell_type": "code",
   "execution_count": 10,
   "metadata": {},
   "outputs": [
    {
     "name": "stdout",
     "output_type": "stream",
     "text": [
      "01_search_data_products.ipynb    download_hrsc.geojson\n",
      "02_download_data_products.ipynb  search_ctx.geojson\n",
      "\u001b[1m\u001b[36mdata\u001b[m\u001b[m/                            search_hirise.geojson\n",
      "download_ctx.geojson             search_hrsc.geojson\n",
      "download_hirise.geojson\n"
     ]
    }
   ],
   "source": [
    "ls ../01_search-download_from_ode-pds/"
   ]
  },
  {
   "cell_type": "code",
   "execution_count": 11,
   "metadata": {},
   "outputs": [],
   "source": [
    "from pathlib import Path\n",
    "\n",
    "db_path = Path(f'../01_search-download_from_ode-pds/download_{dataset}.geojson')\n",
    "\n",
    "archive = collection.from_geojson(db_path.as_posix())"
   ]
  },
  {
   "cell_type": "code",
   "execution_count": 12,
   "metadata": {},
   "outputs": [
    {
     "data": {
      "text/plain": [
       "                                            geometry BB_georeferenced  \\\n",
       "0  MULTIPOLYGON (((-0.21680 3.84280, -0.21600 3.9...             True   \n",
       "1  MULTIPOLYGON (((-0.21680 3.84280, -0.21600 3.9...             True   \n",
       "2  POLYGON ((-1.73400 -11.89400, -1.73800 -11.644...             True   \n",
       "3  POLYGON ((-1.73400 -11.89400, -1.73800 -11.644...             True   \n",
       "\n",
       "  Center_georeferenced Center_latitude Center_longitude  \\\n",
       "0                 True         -1.7901           0.2893   \n",
       "1                 True         -1.7901           0.2893   \n",
       "2                 True         -4.8102         358.8204   \n",
       "3                 True         -4.8102         358.8204   \n",
       "\n",
       "                            Data_Set_Id Easternmost_longitude  \\\n",
       "0  MEX-M-HRSC-5-REFDR-MAPPROJECTED-V3.0               359.784   \n",
       "1  MEX-M-HRSC-5-REFDR-MAPPROJECTED-V3.0               359.784   \n",
       "2  MEX-M-HRSC-5-REFDR-MAPPROJECTED-V3.0               359.921   \n",
       "3  MEX-M-HRSC-5-REFDR-MAPPROJECTED-V3.0               359.921   \n",
       "\n",
       "                                        External_url  \\\n",
       "0  https://ode.rsl.wustl.edu/mars/indexproductpag...   \n",
       "1  https://ode.rsl.wustl.edu/mars/indexproductpag...   \n",
       "2  https://ode.rsl.wustl.edu/mars/indexproductpag...   \n",
       "3  https://ode.rsl.wustl.edu/mars/indexproductpag...   \n",
       "\n",
       "                                            FilesURL ihid  ...  \\\n",
       "0  https://ode.rsl.wustl.edu/mars/productfiles.as...  MEX  ...   \n",
       "1  https://ode.rsl.wustl.edu/mars/productfiles.as...  MEX  ...   \n",
       "2  https://ode.rsl.wustl.edu/mars/productfiles.as...  MEX  ...   \n",
       "3  https://ode.rsl.wustl.edu/mars/productfiles.as...  MEX  ...   \n",
       "\n",
       "            UTC_start_time            UTC_stop_time Westernmost_longitude  \\\n",
       "0  2005-08-05T04:56:51.655  2005-08-05T04:59:53.671                 0.844   \n",
       "1  2005-08-05T04:56:51.655  2005-08-05T04:59:53.671                 0.844   \n",
       "2  2012-03-24T00:45:41.813  2012-03-24T00:49:36.820               357.866   \n",
       "3  2012-03-24T00:45:41.813  2012-03-24T00:49:36.820               357.866   \n",
       "\n",
       "             Creation_date         Description            FileName  KBytes  \\\n",
       "0  2016-04-25T13:16:13.845   PRODUCT DATA FILE  H1998_0000_ND3.JP2  160069   \n",
       "1  2016-04-25T13:16:13.662  PRODUCT LABEL FILE  H1998_0000_ND3.LBL      10   \n",
       "2  2017-01-03T10:26:40.344   PRODUCT DATA FILE  HA482_0000_ND3.JP2  227392   \n",
       "3  2017-01-03T10:26:39.668  PRODUCT LABEL FILE  HA482_0000_ND3.LBL      10   \n",
       "\n",
       "      Type                                                URL  \\\n",
       "0  Product  https://pds-geosciences.wustl.edu/mex/mex-m-hr...   \n",
       "1  Product  https://pds-geosciences.wustl.edu/mex/mex-m-hr...   \n",
       "2  Product  https://pds-geosciences.wustl.edu/mex/mex-m-hr...   \n",
       "3  Product  https://pds-geosciences.wustl.edu/mex/mex-m-hr...   \n",
       "\n",
       "                                   file_path  \n",
       "0  ./data/MEX/HRSC/REFDR3/h1998_0000_nd3.jp2  \n",
       "1  ./data/MEX/HRSC/REFDR3/h1998_0000_nd3.lbl  \n",
       "2  ./data/MEX/HRSC/REFDR3/ha482_0000_nd3.jp2  \n",
       "3  ./data/MEX/HRSC/REFDR3/ha482_0000_nd3.lbl  \n",
       "\n",
       "[4 rows x 40 columns]"
      ]
     },
     "execution_count": 12,
     "metadata": {},
     "output_type": "execute_result"
    }
   ],
   "source": [
    "archive"
   ]
  },
  {
   "cell_type": "code",
   "execution_count": null,
   "metadata": {},
   "outputs": [],
   "source": []
  }
 ],
 "metadata": {
  "kernelspec": {
   "display_name": "Python 3",
   "language": "python",
   "name": "python3"
  },
  "language_info": {
   "codemirror_mode": {
    "name": "ipython",
    "version": 3
   },
   "file_extension": ".py",
   "mimetype": "text/x-python",
   "name": "python",
   "nbconvert_exporter": "python",
   "pygments_lexer": "ipython3",
   "version": "3.7.10"
  }
 },
 "nbformat": 4,
 "nbformat_minor": 4
}
