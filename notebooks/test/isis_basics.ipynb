{
 "cells": [
  {
   "cell_type": "markdown",
   "metadata": {},
   "source": [
    "## Test GMAP isis procedures within Jupyter\n",
    "\n",
    "using [sh.py](https://pypi.org/project/sh/), to be used with a local [isis conda installation](https://github.com/USGS-Astrogeology/ISIS3/blob/dev/README.md#Installation), using GMAP docker/hub containers or GMAP services.\n",
    "\n",
    "<!-- ### Option A (not working with isis on python 3.6 and Big Sur...)\n",
    "After installing isis, in the same environment install also sh.py and ipykernel (optional), to be used from e.g. _base_ with.\n",
    "\n",
    "```\n",
    "$ conda activate isis\n",
    "(isis)$ conda install ipykernel\n",
    "(isis)$ ipython kernel install --user --name=<any_name_for_kernel>\n",
    "\n",
    "(isis)$ conda deactivate\n",
    "``` -->\n",
    "\n",
    "### Procedure\n",
    "\n",
    "<font color=\"red\">\n",
    "this procedure will be improved once we use GMAP docker configurations\n",
    "</font>\n",
    "\n",
    "Using _base_ or any other conda environment and making sure the isis executable are in the ```$PATH```, \n",
    "and that isis shell environments are set before launching Jupyter\n",
    "\n",
    "#### 1) Have a Working directory, e.g.\n",
    "\n",
    "```\n",
    "/Volumes/ulthar/data/gmap/gitlab_repos/TMP\n",
    "```\n",
    "\n",
    "#### 2) set isis basic envs, e.g.\n",
    "\n",
    "```\n",
    "export ISISROOT=/Users/user/miniconda3/envs/isis\n",
    ". $ISISROOT/scripts/isis3Startup.sh\n",
    "```\n",
    "\n",
    "#### 3) Launch Jupyter \n",
    "\n",
    "provided that ```sh.py``` is available in ```(base)``` or whatever virtual environment used\n",
    "\n",
    "i.e.\n",
    "```\n",
    "(isis)$ conda install sh\n",
    "```\n",
    "\n",
    "and launch jupyter\n",
    "\n",
    "```\n",
    "jupyter lab\n",
    "```\n",
    "\n"
   ]
  },
  {
   "cell_type": "markdown",
   "metadata": {},
   "source": [
    "## Checking envs and paths\n",
    "\n",
    "This is to just make sure sh sees isis"
   ]
  },
  {
   "cell_type": "code",
   "execution_count": 1,
   "metadata": {},
   "outputs": [
    {
     "data": {
      "text/plain": [
       "'/Users/anrossi/miniconda3/bin:/Users/anrossi/miniconda3/condabin:/usr/local/bin:/usr/local/sbin:/usr/bin:/bin:/usr/sbin:/sbin:/Library/TeX/texbin:/opt/X11/bin:/Users/anrossi/miniconda3/envs/isis/bin'"
      ]
     },
     "execution_count": 1,
     "metadata": {},
     "output_type": "execute_result"
    }
   ],
   "source": [
    "import os\n",
    "os.getenv(\"PATH\")"
   ]
  },
  {
   "cell_type": "code",
   "execution_count": 2,
   "metadata": {},
   "outputs": [
    {
     "data": {
      "text/plain": [
       "'/Users/anrossi/miniconda3/bin/python'"
      ]
     },
     "execution_count": 2,
     "metadata": {},
     "output_type": "execute_result"
    }
   ],
   "source": [
    "import sys\n",
    "sys.executable"
   ]
  },
  {
   "cell_type": "code",
   "execution_count": 3,
   "metadata": {},
   "outputs": [
    {
     "data": {
      "text/plain": [
       "'3.8.10 (default, May 19 2021, 11:01:55) \\n[Clang 10.0.0 ]'"
      ]
     },
     "execution_count": 3,
     "metadata": {},
     "output_type": "execute_result"
    }
   ],
   "source": [
    "sys.version"
   ]
  },
  {
   "cell_type": "code",
   "execution_count": 9,
   "metadata": {},
   "outputs": [
    {
     "name": "stdout",
     "output_type": "stream",
     "text": [
      "[ListKernelSpecs] WARNING | Config option `kernel_spec_manager_class` not recognized by `ListKernelSpecs`.\n",
      "Available kernels:\n",
      "  isis       /Users/anrossi/Library/Jupyter/kernels/isis\n",
      "  python3    /Users/anrossi/miniconda3/share/jupyter/kernels/python3\n"
     ]
    }
   ],
   "source": [
    "# # Adding a new path to the system path variable\n",
    "# sys.path.append('/Users/anrossi/miniconda3/envs/isis/bin')\n",
    " \n",
    "# # Checking the system path again\n",
    "# print(sys.path)\n",
    "!jupyter kernelspec list\n",
    "\n",
    "# we don't use ipykernel unless we fix the Big Sur issue"
   ]
  },
  {
   "cell_type": "code",
   "execution_count": 16,
   "metadata": {},
   "outputs": [
    {
     "ename": "SyntaxError",
     "evalue": "invalid syntax (<ipython-input-16-bb7286381de7>, line 3)",
     "output_type": "error",
     "traceback": [
      "\u001b[0;36m  File \u001b[0;32m\"<ipython-input-16-bb7286381de7>\"\u001b[0;36m, line \u001b[0;32m3\u001b[0m\n\u001b[0;31m    pds2isis(from=)\u001b[0m\n\u001b[0m             ^\u001b[0m\n\u001b[0;31mSyntaxError\u001b[0m\u001b[0;31m:\u001b[0m invalid syntax\n"
     ]
    }
   ],
   "source": [
    "from sh import pds2isis\n",
    "\n",
    "pds2isis(from=)"
   ]
  },
  {
   "cell_type": "code",
   "execution_count": 15,
   "metadata": {},
   "outputs": [
    {
     "data": {
      "text/plain": [
       "<bound method Command.bake of <Command '/Users/anrossi/miniconda3/envs/isis/bin/pds2isis'>>"
      ]
     },
     "execution_count": 15,
     "metadata": {},
     "output_type": "execute_result"
    }
   ],
   "source": [
    "pds2isis.bake\n"
   ]
  },
  {
   "cell_type": "code",
   "execution_count": null,
   "metadata": {},
   "outputs": [],
   "source": []
  }
 ],
 "metadata": {
  "kernelspec": {
   "display_name": "Python 3",
   "language": "python",
   "name": "python3"
  },
  "language_info": {
   "codemirror_mode": {
    "name": "ipython",
    "version": 3
   },
   "file_extension": ".py",
   "mimetype": "text/x-python",
   "name": "python",
   "nbconvert_exporter": "python",
   "pygments_lexer": "ipython3",
   "version": "3.8.10"
  }
 },
 "nbformat": 4,
 "nbformat_minor": 4
}
